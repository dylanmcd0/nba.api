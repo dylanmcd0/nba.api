{
 "cells": [
  {
   "cell_type": "markdown",
   "metadata": {},
   "source": [
    "# Graphing NBA All Stars by Salary for the 2022-2023 Season"
   ]
  },
  {
   "cell_type": "code",
   "execution_count": 2,
   "metadata": {},
   "outputs": [],
   "source": [
    "import requests\n",
    "from bs4 import BeautifulSoup\n",
    "\n",
    "import pandas as pd\n",
    "import numpy as np\n",
    "\n",
    "import seaborn as sns\n",
    "from matplotlib import pyplot as plt\n",
    "\n",
    "from sklearn.linear_model import LogisticRegression\n",
    "\n",
    "import nbimporter "
   ]
  },
  {
   "cell_type": "code",
   "execution_count": 3,
   "metadata": {},
   "outputs": [],
   "source": [
    "%load_ext sql\n",
    "\n",
    "%config SqlMagic.autopandas = True\n",
    "%config SqlMagic.feedback = False\n",
    "%config SqlMagic.displaycon = False\n",
    "\n",
    "%sql duckdb:///:memory:"
   ]
  },
  {
   "cell_type": "code",
   "execution_count": 12,
   "metadata": {},
   "outputs": [],
   "source": [
    "allstar_23_result = requests.get(\"https://en.wikipedia.org/wiki/2023_NBA_All-Star_Game\").text\n",
    "allstar_23_page = BeautifulSoup(allstar_23_result, \"html.parser\")\n",
    "raw_data = allstar_23_page.find('table', {'class':'multicol'})"
   ]
  },
  {
   "cell_type": "code",
   "execution_count": 70,
   "metadata": {},
   "outputs": [],
   "source": [
    "allstar_tables = pd.read_html(\"https://en.wikipedia.org/wiki/2023_NBA_All-Star_Game\")"
   ]
  },
  {
   "cell_type": "code",
   "execution_count": 82,
   "metadata": {},
   "outputs": [],
   "source": [
    "allstar_23 = allstar_tables[6].drop(columns=['Pick', 'Team'])"
   ]
  },
  {
   "cell_type": "code",
   "execution_count": 83,
   "metadata": {},
   "outputs": [
    {
     "name": "stdout",
     "output_type": "stream",
     "text": [
      "                     Player\n",
      "0            Damian Lillard\n",
      "1           Anthony Edwards\n",
      "2              Jrue Holiday\n",
      "3              Jaylen Brown\n",
      "4   Shai Gilgeous-Alexander\n",
      "5               Paul George\n",
      "6             DeMar DeRozan\n",
      "7         Tyrese Haliburton\n",
      "8             Pascal Siakam\n",
      "9             Julius Randle\n",
      "10              Bam Adebayo\n",
      "11             De'Aaron Fox\n",
      "12         Domantas Sabonis\n",
      "13        Jaren Jackson Jr.\n",
      "14              Joel Embiid\n",
      "15             Jayson Tatum\n",
      "16             Kyrie Irving\n",
      "17                Ja Morant\n",
      "18              Luka Dončić\n",
      "19         Donovan Mitchell\n",
      "20             Nikola Jokić\n",
      "21          Lauri Markkanen\n"
     ]
    }
   ],
   "source": [
    "print(allstar_23)"
   ]
  },
  {
   "cell_type": "markdown",
   "metadata": {},
   "source": [
    "## Getting the Salary Data"
   ]
  },
  {
   "cell_type": "code",
   "execution_count": 65,
   "metadata": {},
   "outputs": [],
   "source": [
    "salary_table = pd.read_html(\"https://hoopshype.com/salaries/players/\")"
   ]
  },
  {
   "cell_type": "code",
   "execution_count": 66,
   "metadata": {},
   "outputs": [],
   "source": [
    "salary_df = salary_table[0]\n",
    "salary_df = salary_df.drop(salary_df.columns[0], axis=1)\n"
   ]
  },
  {
   "cell_type": "code",
   "execution_count": 67,
   "metadata": {},
   "outputs": [
    {
     "data": {
      "text/html": [
       "<div>\n",
       "<style scoped>\n",
       "    .dataframe tbody tr th:only-of-type {\n",
       "        vertical-align: middle;\n",
       "    }\n",
       "\n",
       "    .dataframe tbody tr th {\n",
       "        vertical-align: top;\n",
       "    }\n",
       "\n",
       "    .dataframe thead th {\n",
       "        text-align: right;\n",
       "    }\n",
       "</style>\n",
       "<table border=\"1\" class=\"dataframe\">\n",
       "  <thead>\n",
       "    <tr style=\"text-align: right;\">\n",
       "      <th></th>\n",
       "      <th>Player</th>\n",
       "      <th>2022/23</th>\n",
       "      <th>2023/24</th>\n",
       "      <th>2024/25</th>\n",
       "      <th>2025/26</th>\n",
       "      <th>2026/27</th>\n",
       "      <th>2027/28</th>\n",
       "    </tr>\n",
       "  </thead>\n",
       "  <tbody>\n",
       "    <tr>\n",
       "      <th>0</th>\n",
       "      <td>Stephen Curry</td>\n",
       "      <td>$48,070,014</td>\n",
       "      <td>$51,915,615</td>\n",
       "      <td>$55,761,217</td>\n",
       "      <td>$59,606,817</td>\n",
       "      <td>$0</td>\n",
       "      <td>$0</td>\n",
       "    </tr>\n",
       "    <tr>\n",
       "      <th>1</th>\n",
       "      <td>John Wall</td>\n",
       "      <td>$47,345,760</td>\n",
       "      <td>$0</td>\n",
       "      <td>$0</td>\n",
       "      <td>$0</td>\n",
       "      <td>$0</td>\n",
       "      <td>$0</td>\n",
       "    </tr>\n",
       "    <tr>\n",
       "      <th>2</th>\n",
       "      <td>Russell Westbrook</td>\n",
       "      <td>$47,080,179</td>\n",
       "      <td>$0</td>\n",
       "      <td>$0</td>\n",
       "      <td>$0</td>\n",
       "      <td>$0</td>\n",
       "      <td>$0</td>\n",
       "    </tr>\n",
       "    <tr>\n",
       "      <th>3</th>\n",
       "      <td>LeBron James</td>\n",
       "      <td>$44,474,988</td>\n",
       "      <td>$46,698,737</td>\n",
       "      <td>$50,434,636</td>\n",
       "      <td>$0</td>\n",
       "      <td>$0</td>\n",
       "      <td>$0</td>\n",
       "    </tr>\n",
       "    <tr>\n",
       "      <th>4</th>\n",
       "      <td>Kevin Durant</td>\n",
       "      <td>$44,119,845</td>\n",
       "      <td>$47,649,433</td>\n",
       "      <td>$51,179,020</td>\n",
       "      <td>$54,708,608</td>\n",
       "      <td>$0</td>\n",
       "      <td>$0</td>\n",
       "    </tr>\n",
       "    <tr>\n",
       "      <th>...</th>\n",
       "      <td>...</td>\n",
       "      <td>...</td>\n",
       "      <td>...</td>\n",
       "      <td>...</td>\n",
       "      <td>...</td>\n",
       "      <td>...</td>\n",
       "      <td>...</td>\n",
       "    </tr>\n",
       "    <tr>\n",
       "      <th>548</th>\n",
       "      <td>Olivier Sarr</td>\n",
       "      <td>$90,665</td>\n",
       "      <td>$0</td>\n",
       "      <td>$0</td>\n",
       "      <td>$0</td>\n",
       "      <td>$0</td>\n",
       "      <td>$0</td>\n",
       "    </tr>\n",
       "    <tr>\n",
       "      <th>549</th>\n",
       "      <td>Stanley Umude</td>\n",
       "      <td>$58,493</td>\n",
       "      <td>$0</td>\n",
       "      <td>$0</td>\n",
       "      <td>$0</td>\n",
       "      <td>$0</td>\n",
       "      <td>$0</td>\n",
       "    </tr>\n",
       "    <tr>\n",
       "      <th>550</th>\n",
       "      <td>Jamaree Bouyea</td>\n",
       "      <td>$58,493</td>\n",
       "      <td>$0</td>\n",
       "      <td>$0</td>\n",
       "      <td>$0</td>\n",
       "      <td>$0</td>\n",
       "      <td>$0</td>\n",
       "    </tr>\n",
       "    <tr>\n",
       "      <th>551</th>\n",
       "      <td>DJ Steward</td>\n",
       "      <td>$50,000</td>\n",
       "      <td>$0</td>\n",
       "      <td>$0</td>\n",
       "      <td>$0</td>\n",
       "      <td>$0</td>\n",
       "      <td>$0</td>\n",
       "    </tr>\n",
       "    <tr>\n",
       "      <th>552</th>\n",
       "      <td>Armoni Brooks</td>\n",
       "      <td>$50,000</td>\n",
       "      <td>$0</td>\n",
       "      <td>$0</td>\n",
       "      <td>$0</td>\n",
       "      <td>$0</td>\n",
       "      <td>$0</td>\n",
       "    </tr>\n",
       "  </tbody>\n",
       "</table>\n",
       "<p>553 rows × 7 columns</p>\n",
       "</div>"
      ],
      "text/plain": [
       "                Player      2022/23      2023/24      2024/25      2025/26  \\\n",
       "0        Stephen Curry  $48,070,014  $51,915,615  $55,761,217  $59,606,817   \n",
       "1            John Wall  $47,345,760           $0           $0           $0   \n",
       "2    Russell Westbrook  $47,080,179           $0           $0           $0   \n",
       "3         LeBron James  $44,474,988  $46,698,737  $50,434,636           $0   \n",
       "4         Kevin Durant  $44,119,845  $47,649,433  $51,179,020  $54,708,608   \n",
       "..                 ...          ...          ...          ...          ...   \n",
       "548       Olivier Sarr      $90,665           $0           $0           $0   \n",
       "549      Stanley Umude      $58,493           $0           $0           $0   \n",
       "550     Jamaree Bouyea      $58,493           $0           $0           $0   \n",
       "551         DJ Steward      $50,000           $0           $0           $0   \n",
       "552      Armoni Brooks      $50,000           $0           $0           $0   \n",
       "\n",
       "    2026/27 2027/28  \n",
       "0        $0      $0  \n",
       "1        $0      $0  \n",
       "2        $0      $0  \n",
       "3        $0      $0  \n",
       "4        $0      $0  \n",
       "..      ...     ...  \n",
       "548      $0      $0  \n",
       "549      $0      $0  \n",
       "550      $0      $0  \n",
       "551      $0      $0  \n",
       "552      $0      $0  \n",
       "\n",
       "[553 rows x 7 columns]"
      ]
     },
     "metadata": {},
     "output_type": "display_data"
    }
   ],
   "source": [
    "display(salary_df)"
   ]
  },
  {
   "cell_type": "code",
   "execution_count": 100,
   "metadata": {},
   "outputs": [],
   "source": [
    "allstar_salaries = salary_df[salary_df['Player'].isin(allstar_23['Player'])]\n",
    "non_allstar_salaries = salary_df[~salary_df['Player'].isin(allstar_23['Player'])]"
   ]
  },
  {
   "cell_type": "code",
   "execution_count": null,
   "metadata": {},
   "outputs": [],
   "source": []
  }
 ],
 "metadata": {
  "interpreter": {
   "hash": "4d3da433caacf82413237319d4cf7587bd7290cdb9ea68b0bebc35dc1a00c16a"
  },
  "kernelspec": {
   "display_name": "Python 3.8.13 ('info2950')",
   "language": "python",
   "name": "python3"
  },
  "language_info": {
   "codemirror_mode": {
    "name": "ipython",
    "version": 3
   },
   "file_extension": ".py",
   "mimetype": "text/x-python",
   "name": "python",
   "nbconvert_exporter": "python",
   "pygments_lexer": "ipython3",
   "version": "3.8.13"
  },
  "orig_nbformat": 4
 },
 "nbformat": 4,
 "nbformat_minor": 2
}
