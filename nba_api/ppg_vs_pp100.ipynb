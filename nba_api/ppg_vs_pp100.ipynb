{
 "cells": [
  {
   "cell_type": "markdown",
   "metadata": {},
   "source": [
    "# Plotting Teams by Points Per Game (PPG) and Points Per 100 Possessions (PP100)"
   ]
  },
  {
   "cell_type": "markdown",
   "metadata": {},
   "source": [
    "### Step 1: Import Dependencies"
   ]
  },
  {
   "cell_type": "code",
   "execution_count": 8,
   "metadata": {},
   "outputs": [],
   "source": [
    "from nba_api.stats.static import teams\n",
    "from nba_api.stats.endpoints import leaguegamefinder, teamestimatedmetrics"
   ]
  },
  {
   "cell_type": "markdown",
   "metadata": {},
   "source": [
    "### Step 2: Get Team Data for This Past Season (2022-23)"
   ]
  },
  {
   "cell_type": "code",
   "execution_count": 12,
   "metadata": {},
   "outputs": [],
   "source": [
    "nba_teams = teams.get_teams()"
   ]
  },
  {
   "cell_type": "code",
   "execution_count": 13,
   "metadata": {},
   "outputs": [],
   "source": [
    "def get_23_games_dict(nba_teams):\n",
    "    games_23_dict = {}\n",
    "    for index, team in enumerate(nba_teams):\n",
    "        gamefinder = leaguegamefinder.LeagueGameFinder(team_id_nullable = nba_teams[index]['id'])\n",
    "        all_games = gamefinder.get_data_frames()[0]\n",
    "\n",
    "        games_23 = all_games[all_games.SEASON_ID.str[-4:] == '2022']\n",
    "        games_23_dict[team['full_name']] = games_23\n",
    "    return games_23_dict"
   ]
  },
  {
   "cell_type": "code",
   "execution_count": 17,
   "metadata": {},
   "outputs": [],
   "source": [
    "# games_23 = get_23_games_dict(nba_teams)"
   ]
  },
  {
   "cell_type": "markdown",
   "metadata": {},
   "source": [
    "### Step 3: Get Estimated Team Data for this Season (2022-23)"
   ]
  },
  {
   "cell_type": "code",
   "execution_count": 16,
   "metadata": {},
   "outputs": [],
   "source": [
    "# metrics_finder = teamestimatedmetrics.TeamEstimatedMetrics()\n",
    "# team_metrics = metrics_finder.get_data_frames()[0]"
   ]
  },
  {
   "cell_type": "markdown",
   "metadata": {},
   "source": [
    "### Step 4: Create One DataFrame for My Plot"
   ]
  },
  {
   "cell_type": "markdown",
   "metadata": {},
   "source": [
    "### Step 5: Create My Plot"
   ]
  }
 ],
 "metadata": {
  "interpreter": {
   "hash": "4d3da433caacf82413237319d4cf7587bd7290cdb9ea68b0bebc35dc1a00c16a"
  },
  "kernelspec": {
   "display_name": "Python 3.8.13 ('info2950')",
   "language": "python",
   "name": "python3"
  },
  "language_info": {
   "codemirror_mode": {
    "name": "ipython",
    "version": 3
   },
   "file_extension": ".py",
   "mimetype": "text/x-python",
   "name": "python",
   "nbconvert_exporter": "python",
   "pygments_lexer": "ipython3",
   "version": "3.8.13"
  },
  "orig_nbformat": 4
 },
 "nbformat": 4,
 "nbformat_minor": 2
}
