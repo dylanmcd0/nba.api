{
 "cells": [
  {
   "cell_type": "markdown",
   "metadata": {},
   "source": [
    "# Notebook to Collect Data on Today's Games"
   ]
  },
  {
   "cell_type": "code",
   "execution_count": 3,
   "metadata": {},
   "outputs": [
    {
     "name": "stdout",
     "output_type": "stream",
     "text": [
      "ScoreBoardDate: 2023-10-25\n",
      "0022300063: Hawks vs. Hornets @ 2023-10-25 19:00:00-04:00\n",
      "0022300064: Wizards vs. Pacers @ 2023-10-25 19:00:00-04:00\n",
      "0022300065: Celtics vs. Knicks @ 2023-10-25 19:00:00-04:00\n",
      "0022300066: Rockets vs. Magic @ 2023-10-25 19:00:00-04:00\n",
      "0022300067: Cavaliers vs. Nets @ 2023-10-25 19:30:00-04:00\n",
      "0022300068: Pistons vs. Heat @ 2023-10-25 19:30:00-04:00\n",
      "0022300069: Timberwolves vs. Raptors @ 2023-10-25 19:30:00-04:00\n",
      "0022300070: Thunder vs. Bulls @ 2023-10-25 20:00:00-04:00\n",
      "0022300071: Pelicans vs. Grizzlies @ 2023-10-25 20:00:00-04:00\n",
      "0022300072: Kings vs. Jazz @ 2023-10-25 21:00:00-04:00\n",
      "0022300073: Mavericks vs. Spurs @ 2023-10-25 21:30:00-04:00\n",
      "0022300074: Trail Blazers vs. Clippers @ 2023-10-25 22:30:00-04:00\n"
     ]
    }
   ],
   "source": [
    "# Query nba.live.endpoints.scoreboard and  list games in localTimeZone\n",
    "from datetime import datetime, timezone\n",
    "from dateutil import parser\n",
    "import pandas as pd\n",
    "from nba_api.live.nba.endpoints import scoreboard\n",
    "\n",
    "f = \"{gameId}: {awayTeam} vs. {homeTeam} @ {gameTimeLTZ}\" \n",
    "\n",
    "board = scoreboard.ScoreBoard()\n",
    "print(\"ScoreBoardDate: \" + board.score_board_date)\n",
    "games = board.games.get_dict()\n",
    "for game in games:\n",
    "    gameTimeLTZ = parser.parse(game[\"gameTimeUTC\"]).replace(tzinfo=timezone.utc).astimezone(tz=None)\n",
    "    print(f.format(gameId=game['gameId'], awayTeam=game['awayTeam']['teamName'], homeTeam=game['homeTeam']['teamName'], gameTimeLTZ=gameTimeLTZ))"
   ]
  },
  {
   "cell_type": "code",
   "execution_count": 6,
   "metadata": {},
   "outputs": [],
   "source": [
    "from nba_api.live.nba.endpoints import boxscore\n",
    "\n",
    "knicks_box = boxscore.BoxScore('0022300065')"
   ]
  },
  {
   "cell_type": "code",
   "execution_count": 18,
   "metadata": {},
   "outputs": [
    {
     "data": {
      "text/plain": [
       "{'teamId': 1610612738,\n",
       " 'teamName': 'Celtics',\n",
       " 'teamCity': 'Boston',\n",
       " 'teamTricode': 'BOS',\n",
       " 'score': 108,\n",
       " 'inBonus': '1',\n",
       " 'timeoutsRemaining': 0,\n",
       " 'periods': [{'period': 1, 'periodType': 'REGULAR', 'score': 30},\n",
       "  {'period': 2, 'periodType': 'REGULAR', 'score': 21},\n",
       "  {'period': 3, 'periodType': 'REGULAR', 'score': 31},\n",
       "  {'period': 4, 'periodType': 'REGULAR', 'score': 26}],\n",
       " 'statistics': {'assists': 18,\n",
       "  'assistsTurnoverRatio': 1.38461538461538,\n",
       "  'benchPoints': 12,\n",
       "  'biggestLead': 12,\n",
       "  'biggestLeadScore': '27-15',\n",
       "  'biggestScoringRun': 9,\n",
       "  'biggestScoringRunScore': '104-101',\n",
       "  'blocks': 11,\n",
       "  'blocksReceived': 0,\n",
       "  'fastBreakPointsAttempted': 10,\n",
       "  'fastBreakPointsMade': 8,\n",
       "  'fastBreakPointsPercentage': 0.8,\n",
       "  'fieldGoalsAttempted': 77,\n",
       "  'fieldGoalsEffectiveAdjusted': 0.558441558441558,\n",
       "  'fieldGoalsMade': 37,\n",
       "  'fieldGoalsPercentage': 0.48051948051948,\n",
       "  'foulsOffensive': 4,\n",
       "  'foulsDrawn': 22,\n",
       "  'foulsPersonal': 22,\n",
       "  'foulsTeam': 18,\n",
       "  'foulsTechnical': 3,\n",
       "  'foulsTeamTechnical': 0,\n",
       "  'freeThrowsAttempted': 26,\n",
       "  'freeThrowsMade': 22,\n",
       "  'freeThrowsPercentage': 0.846153846153846,\n",
       "  'leadChanges': 4,\n",
       "  'minutes': 'PT240M00.00S',\n",
       "  'minutesCalculated': 'PT240M',\n",
       "  'points': 108,\n",
       "  'pointsAgainst': 104,\n",
       "  'pointsFastBreak': 18,\n",
       "  'pointsFromTurnovers': 14,\n",
       "  'pointsInThePaint': 42,\n",
       "  'pointsInThePaintAttempted': 27,\n",
       "  'pointsInThePaintMade': 21,\n",
       "  'pointsInThePaintPercentage': 0.777777777777778,\n",
       "  'pointsSecondChance': 4,\n",
       "  'reboundsDefensive': 39,\n",
       "  'reboundsOffensive': 7,\n",
       "  'reboundsPersonal': 46,\n",
       "  'reboundsTeam': 7,\n",
       "  'reboundsTeamDefensive': 4,\n",
       "  'reboundsTeamOffensive': 3,\n",
       "  'reboundsTotal': 53,\n",
       "  'secondChancePointsAttempted': 6,\n",
       "  'secondChancePointsMade': 2,\n",
       "  'secondChancePointsPercentage': 0.333333333333333,\n",
       "  'steals': 6,\n",
       "  'threePointersAttempted': 39,\n",
       "  'threePointersMade': 12,\n",
       "  'threePointersPercentage': 0.307692307692308,\n",
       "  'timeLeading': 'PT38M35.00S',\n",
       "  'timesTied': 6,\n",
       "  'trueShootingAttempts': 88.44,\n",
       "  'trueShootingPercentage': 0.610583446404342,\n",
       "  'turnovers': 13,\n",
       "  'turnoversTeam': 0,\n",
       "  'turnoversTotal': 13,\n",
       "  'twoPointersAttempted': 38,\n",
       "  'twoPointersMade': 25,\n",
       "  'twoPointersPercentage': 0.6578947368421051}}"
      ]
     },
     "execution_count": 18,
     "metadata": {},
     "output_type": "execute_result"
    }
   ],
   "source": [
    "knicks_box.away_team_stats.get_dict()"
   ]
  }
 ],
 "metadata": {
  "interpreter": {
   "hash": "4d3da433caacf82413237319d4cf7587bd7290cdb9ea68b0bebc35dc1a00c16a"
  },
  "kernelspec": {
   "display_name": "Python 3.8.13 ('info2950')",
   "language": "python",
   "name": "python3"
  },
  "language_info": {
   "codemirror_mode": {
    "name": "ipython",
    "version": 3
   },
   "file_extension": ".py",
   "mimetype": "text/x-python",
   "name": "python",
   "nbconvert_exporter": "python",
   "pygments_lexer": "ipython3",
   "version": "3.10.12"
  },
  "orig_nbformat": 4
 },
 "nbformat": 4,
 "nbformat_minor": 2
}
